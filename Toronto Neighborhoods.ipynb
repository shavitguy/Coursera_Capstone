{
    "cells": [
        {
            "cell_type": "markdown",
            "metadata": {
                "collapsed": true
            },
            "source": "# Toronto Neighborhoods\nAuthor:    Guy Shavit\npart 1 scrape the Wikipedia page in order to obtain the data that is in the table of postal codes and to transform the data into a pandas dataframe "
        },
        {
            "cell_type": "markdown",
            "metadata": {},
            "source": "Importing packages"
        },
        {
            "cell_type": "code",
            "execution_count": 40,
            "metadata": {},
            "outputs": [],
            "source": "import pandas as pd"
        },
        {
            "cell_type": "markdown",
            "metadata": {},
            "source": "Get the Wikipedia page and read into a Dataframe"
        },
        {
            "cell_type": "code",
            "execution_count": 41,
            "metadata": {},
            "outputs": [
                {
                    "name": "stdout",
                    "output_type": "stream",
                    "text": "--2021-02-12 13:58:41--  https://en.wikipedia.org/wiki/List_of_postal_codes_of_Canada:_M\nResolving en.wikipedia.org (en.wikipedia.org)... 208.80.153.224, 2620:0:860:ed1a::1\nConnecting to en.wikipedia.org (en.wikipedia.org)|208.80.153.224|:443... connected.\nHTTP request sent, awaiting response... 200 OK\nLength: 54740 (53K) [text/html]\nSaving to: \u2018List_of_postal_codes_of_Canada:_M\u2019\n\nList_of_postal_code 100%[===================>]  53.46K  --.-KB/s    in 0.003s  \n\n2021-02-12 13:58:41 (16.7 MB/s) - \u2018List_of_postal_codes_of_Canada:_M\u2019 saved [54740/54740]\n\n"
                }
            ],
            "source": "!wget -O List_of_postal_codes_of_Canada:_M https://en.wikipedia.org/wiki/List_of_postal_codes_of_Canada:_M\ndf = pd.read_html('List_of_postal_codes_of_Canada:_M')"
        },
        {
            "cell_type": "markdown",
            "metadata": {},
            "source": "Take the first table from the Wikipedia page into a Dataframe, Drop any line with Boroguh \"Not assigned\", reset the index and set the Neighbourhood to the Borough name for any Neighbourhood that is \"Not assigned\""
        },
        {
            "cell_type": "code",
            "execution_count": 44,
            "metadata": {},
            "outputs": [
                {
                    "data": {
                        "text/html": "<div>\n<style scoped>\n    .dataframe tbody tr th:only-of-type {\n        vertical-align: middle;\n    }\n\n    .dataframe tbody tr th {\n        vertical-align: top;\n    }\n\n    .dataframe thead th {\n        text-align: right;\n    }\n</style>\n<table border=\"1\" class=\"dataframe\">\n  <thead>\n    <tr style=\"text-align: right;\">\n      <th></th>\n      <th>Postal Code</th>\n      <th>Borough</th>\n      <th>Neighbourhood</th>\n    </tr>\n  </thead>\n  <tbody>\n    <tr>\n      <th>0</th>\n      <td>M3A</td>\n      <td>North York</td>\n      <td>Parkwoods</td>\n    </tr>\n    <tr>\n      <th>1</th>\n      <td>M4A</td>\n      <td>North York</td>\n      <td>Victoria Village</td>\n    </tr>\n    <tr>\n      <th>2</th>\n      <td>M5A</td>\n      <td>Downtown Toronto</td>\n      <td>Regent Park, Harbourfront</td>\n    </tr>\n    <tr>\n      <th>3</th>\n      <td>M6A</td>\n      <td>North York</td>\n      <td>Lawrence Manor, Lawrence Heights</td>\n    </tr>\n    <tr>\n      <th>4</th>\n      <td>M7A</td>\n      <td>Downtown Toronto</td>\n      <td>Queen's Park, Ontario Provincial Government</td>\n    </tr>\n  </tbody>\n</table>\n</div>",
                        "text/plain": "  Postal Code           Borough                                Neighbourhood\n0         M3A        North York                                    Parkwoods\n1         M4A        North York                             Victoria Village\n2         M5A  Downtown Toronto                    Regent Park, Harbourfront\n3         M6A        North York             Lawrence Manor, Lawrence Heights\n4         M7A  Downtown Toronto  Queen's Park, Ontario Provincial Government"
                    },
                    "execution_count": 44,
                    "metadata": {},
                    "output_type": "execute_result"
                }
            ],
            "source": "PostCode = df[0]\nPostCode.drop(PostCode.loc[PostCode['Borough']==\"Not assigned\"].index, inplace=True)\nPostCode.reset_index(drop=True, inplace=True)\nPostCode.loc[PostCode.Neighbourhood == \"Not assigned\", \"Neighbourhood\"] = PostCode.Borough\nPostCode.head()"
        },
        {
            "cell_type": "markdown",
            "metadata": {},
            "source": "Get the table shape"
        },
        {
            "cell_type": "code",
            "execution_count": 45,
            "metadata": {},
            "outputs": [
                {
                    "data": {
                        "text/plain": "(103, 3)"
                    },
                    "execution_count": 45,
                    "metadata": {},
                    "output_type": "execute_result"
                }
            ],
            "source": "PostCode.shape"
        },
        {
            "cell_type": "code",
            "execution_count": null,
            "metadata": {},
            "outputs": [],
            "source": ""
        }
    ],
    "metadata": {
        "kernelspec": {
            "display_name": "Python 3.7",
            "language": "python",
            "name": "python3"
        },
        "language_info": {
            "codemirror_mode": {
                "name": "ipython",
                "version": 3
            },
            "file_extension": ".py",
            "mimetype": "text/x-python",
            "name": "python",
            "nbconvert_exporter": "python",
            "pygments_lexer": "ipython3",
            "version": "3.7.9"
        }
    },
    "nbformat": 4,
    "nbformat_minor": 1
}