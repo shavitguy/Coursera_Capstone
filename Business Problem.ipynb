{
    "cells": [
        {
            "cell_type": "markdown",
            "metadata": {
                "collapsed": true
            },
            "source": "#  Foodie Score\n  \n## Business Problem\nThe target market is people that place high importance on restaurant options and are looking for places to move.\nThe project will calculate a \"foodie\" score for an address or neighborhood which will incroporate the amount of restaurants withing walking distance, their diversity and quality\nThe project will can take as an input the customer's existing neighborood and rank the neighborhoods in the target city base on how similar they are to this neighborhood and restau\n"
        },
        {
            "cell_type": "code",
            "execution_count": null,
            "metadata": {},
            "outputs": [],
            "source": ""
        }
    ],
    "metadata": {
        "kernelspec": {
            "display_name": "Python 3.7",
            "language": "python",
            "name": "python3"
        },
        "language_info": {
            "codemirror_mode": {
                "name": "ipython",
                "version": 3
            },
            "file_extension": ".py",
            "mimetype": "text/x-python",
            "name": "python",
            "nbconvert_exporter": "python",
            "pygments_lexer": "ipython3",
            "version": "3.7.9"
        }
    },
    "nbformat": 4,
    "nbformat_minor": 1
}